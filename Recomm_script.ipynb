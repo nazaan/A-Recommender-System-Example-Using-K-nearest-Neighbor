{
 "cells": [
  {
   "cell_type": "code",
   "execution_count": 1,
   "metadata": {},
   "outputs": [],
   "source": [
    "import pandas as pd\n",
    "import numpy as np\n",
    "from sklearn.model_selection import train_test_split\n",
    "from sklearn.metrics import mean_absolute_error\n",
    "from sklearn.neighbors import KNeighborsRegressor\n",
    "from sklearn.preprocessing import MinMaxScaler\n",
    "import matplotlib.pyplot as plt"
   ]
  },
  {
   "cell_type": "code",
   "execution_count": 2,
   "metadata": {},
   "outputs": [],
   "source": [
    "df_sales= pd.read_excel(r'C:\\Users\\OzturkNa\\Downloads\\Py\\Recomm\\Sales_data3.xlsx')"
   ]
  },
  {
   "cell_type": "code",
   "execution_count": 4,
   "metadata": {},
   "outputs": [
    {
     "name": "stdout",
     "output_type": "stream",
     "text": [
      "<class 'pandas.core.frame.DataFrame'>\n",
      "RangeIndex: 2560 entries, 0 to 2559\n",
      "Data columns (total 3 columns):\n",
      " #   Column      Non-Null Count  Dtype  \n",
      "---  ------      --------------  -----  \n",
      " 0   CustomerNo  2559 non-null   float64\n",
      " 1   MaterialNo  2531 non-null   float64\n",
      " 2   Quantity    2560 non-null   int64  \n",
      "dtypes: float64(2), int64(1)\n",
      "memory usage: 60.1 KB\n"
     ]
    }
   ],
   "source": [
    "df_sales.info()"
   ]
  },
  {
   "cell_type": "code",
   "execution_count": 5,
   "metadata": {},
   "outputs": [
    {
     "data": {
      "text/html": [
       "<div>\n",
       "<style scoped>\n",
       "    .dataframe tbody tr th:only-of-type {\n",
       "        vertical-align: middle;\n",
       "    }\n",
       "\n",
       "    .dataframe tbody tr th {\n",
       "        vertical-align: top;\n",
       "    }\n",
       "\n",
       "    .dataframe thead th {\n",
       "        text-align: right;\n",
       "    }\n",
       "</style>\n",
       "<table border=\"1\" class=\"dataframe\">\n",
       "  <thead>\n",
       "    <tr style=\"text-align: right;\">\n",
       "      <th></th>\n",
       "      <th>CustomerNo</th>\n",
       "      <th>MaterialNo</th>\n",
       "      <th>Quantity</th>\n",
       "    </tr>\n",
       "  </thead>\n",
       "  <tbody>\n",
       "    <tr>\n",
       "      <th>count</th>\n",
       "      <td>2.559000e+03</td>\n",
       "      <td>2.531000e+03</td>\n",
       "      <td>2560.000000</td>\n",
       "    </tr>\n",
       "    <tr>\n",
       "      <th>mean</th>\n",
       "      <td>1.056175e+07</td>\n",
       "      <td>8.117439e+06</td>\n",
       "      <td>139.979297</td>\n",
       "    </tr>\n",
       "    <tr>\n",
       "      <th>std</th>\n",
       "      <td>3.654160e+06</td>\n",
       "      <td>1.344602e+07</td>\n",
       "      <td>730.613551</td>\n",
       "    </tr>\n",
       "    <tr>\n",
       "      <th>min</th>\n",
       "      <td>1.000103e+07</td>\n",
       "      <td>1.008949e+06</td>\n",
       "      <td>0.000000</td>\n",
       "    </tr>\n",
       "    <tr>\n",
       "      <th>25%</th>\n",
       "      <td>1.003637e+07</td>\n",
       "      <td>2.715194e+06</td>\n",
       "      <td>41.000000</td>\n",
       "    </tr>\n",
       "    <tr>\n",
       "      <th>50%</th>\n",
       "      <td>1.024690e+07</td>\n",
       "      <td>3.933333e+06</td>\n",
       "      <td>55.000000</td>\n",
       "    </tr>\n",
       "    <tr>\n",
       "      <th>75%</th>\n",
       "      <td>1.072803e+07</td>\n",
       "      <td>4.512354e+06</td>\n",
       "      <td>100.000000</td>\n",
       "    </tr>\n",
       "    <tr>\n",
       "      <th>max</th>\n",
       "      <td>9.411100e+07</td>\n",
       "      <td>4.633744e+07</td>\n",
       "      <td>30000.000000</td>\n",
       "    </tr>\n",
       "  </tbody>\n",
       "</table>\n",
       "</div>"
      ],
      "text/plain": [
       "         CustomerNo    MaterialNo      Quantity\n",
       "count  2.559000e+03  2.531000e+03   2560.000000\n",
       "mean   1.056175e+07  8.117439e+06    139.979297\n",
       "std    3.654160e+06  1.344602e+07    730.613551\n",
       "min    1.000103e+07  1.008949e+06      0.000000\n",
       "25%    1.003637e+07  2.715194e+06     41.000000\n",
       "50%    1.024690e+07  3.933333e+06     55.000000\n",
       "75%    1.072803e+07  4.512354e+06    100.000000\n",
       "max    9.411100e+07  4.633744e+07  30000.000000"
      ]
     },
     "execution_count": 5,
     "metadata": {},
     "output_type": "execute_result"
    }
   ],
   "source": [
    "df_sales.describe()"
   ]
  },
  {
   "cell_type": "code",
   "execution_count": 6,
   "metadata": {},
   "outputs": [],
   "source": [
    "df_sales=df_sales.dropna()"
   ]
  },
  {
   "cell_type": "code",
   "execution_count": 8,
   "metadata": {},
   "outputs": [],
   "source": [
    "df_sales['CustomerNo']= df_sales['CustomerNo'].astype(int).astype(str)\n",
    "df_sales['MaterialNo']= df_sales['MaterialNo'].astype(int).astype(str)\n"
   ]
  },
  {
   "cell_type": "code",
   "execution_count": 9,
   "metadata": {},
   "outputs": [
    {
     "data": {
      "text/html": [
       "<div>\n",
       "<style scoped>\n",
       "    .dataframe tbody tr th:only-of-type {\n",
       "        vertical-align: middle;\n",
       "    }\n",
       "\n",
       "    .dataframe tbody tr th {\n",
       "        vertical-align: top;\n",
       "    }\n",
       "\n",
       "    .dataframe thead th {\n",
       "        text-align: right;\n",
       "    }\n",
       "</style>\n",
       "<table border=\"1\" class=\"dataframe\">\n",
       "  <thead>\n",
       "    <tr style=\"text-align: right;\">\n",
       "      <th></th>\n",
       "      <th>Quantity</th>\n",
       "    </tr>\n",
       "  </thead>\n",
       "  <tbody>\n",
       "    <tr>\n",
       "      <th>count</th>\n",
       "      <td>2531.000000</td>\n",
       "    </tr>\n",
       "    <tr>\n",
       "      <th>mean</th>\n",
       "      <td>141.583169</td>\n",
       "    </tr>\n",
       "    <tr>\n",
       "      <th>std</th>\n",
       "      <td>734.634332</td>\n",
       "    </tr>\n",
       "    <tr>\n",
       "      <th>min</th>\n",
       "      <td>0.000000</td>\n",
       "    </tr>\n",
       "    <tr>\n",
       "      <th>25%</th>\n",
       "      <td>42.000000</td>\n",
       "    </tr>\n",
       "    <tr>\n",
       "      <th>50%</th>\n",
       "      <td>55.000000</td>\n",
       "    </tr>\n",
       "    <tr>\n",
       "      <th>75%</th>\n",
       "      <td>100.000000</td>\n",
       "    </tr>\n",
       "    <tr>\n",
       "      <th>max</th>\n",
       "      <td>30000.000000</td>\n",
       "    </tr>\n",
       "  </tbody>\n",
       "</table>\n",
       "</div>"
      ],
      "text/plain": [
       "           Quantity\n",
       "count   2531.000000\n",
       "mean     141.583169\n",
       "std      734.634332\n",
       "min        0.000000\n",
       "25%       42.000000\n",
       "50%       55.000000\n",
       "75%      100.000000\n",
       "max    30000.000000"
      ]
     },
     "execution_count": 9,
     "metadata": {},
     "output_type": "execute_result"
    }
   ],
   "source": [
    "df_sales.describe()"
   ]
  },
  {
   "cell_type": "code",
   "execution_count": 16,
   "metadata": {},
   "outputs": [],
   "source": [
    "# Aggregate sales quantities for each product\n",
    "product_sales = df_sales.groupby('MaterialNo')['Quantity'].sum().reset_index()\n",
    "\n",
    "# Sort products based on aggregated sales quantities in descending order\n",
    "top_10_products = product_sales.sort_values(by='Quantity', ascending=False).head(10)\n",
    "\n",
    "# Display the top 10 products\n",
    "#print(top_10_products)"
   ]
  },
  {
   "cell_type": "code",
   "execution_count": 17,
   "metadata": {},
   "outputs": [
    {
     "name": "stdout",
     "output_type": "stream",
     "text": [
      "    CustomerNo  Quantity\n",
      "571   11013554    113874\n",
      "39    10008542     20421\n",
      "566   10992249      8067\n",
      "50    10009458      7470\n",
      "137   10046709      7024\n",
      "122   10045102      6660\n",
      "147   10050211      6180\n",
      "473   10749197      5622\n",
      "33    10008146      5460\n",
      "429   10681817      4992\n"
     ]
    }
   ],
   "source": [
    "# Aggregate sales quantities for each product\n",
    "customers = df_sales.groupby('CustomerNo')['Quantity'].sum().reset_index()\n",
    "\n",
    "# Sort products based on aggregated sales quantities in descending order\n",
    "top_10_customers = customers.sort_values(by='Quantity', ascending=False).head(10)\n",
    "\n",
    "# Display the top 10 products\n",
    "print(top_10_customers)"
   ]
  },
  {
   "cell_type": "code",
   "execution_count": 18,
   "metadata": {},
   "outputs": [
    {
     "data": {
      "image/png": "[encoded data removed]",
      "text/plain": [
       "<Figure size 432x288 with 2 Axes>"
      ]
     },
     "metadata": {
      "needs_background": "light"
     },
     "output_type": "display_data"
    }
   ],
   "source": [
    "# Pivot the data to create a heatmap\n",
    "heatmap_data = df_sales.pivot_table(index='CustomerNo', columns='MaterialNo', values='Quantity', aggfunc='sum')\n",
    "\n",
    "# Create the heatmap\n",
    "plt.imshow(heatmap_data, cmap='viridis', interpolation='nearest', aspect='auto')\n",
    "\n",
    "# Add labels and title\n",
    "plt.xlabel('Material Number')\n",
    "plt.ylabel('Customer Number')\n",
    "plt.title('Sales Quantity Heatmap')\n",
    "\n",
    "# Customize the axis ticks and labels\n",
    "plt.xticks(range(len(heatmap_data.columns)), heatmap_data.columns)\n",
    "plt.yticks(range(len(heatmap_data.index)), heatmap_data.index)\n",
    "\n",
    "# Display the colorbar\n",
    "plt.colorbar()\n",
    "\n",
    "# Display the heatmap\n",
    "plt.show()"
   ]
  },
  {
   "cell_type": "code",
   "execution_count": 19,
   "metadata": {},
   "outputs": [
    {
     "name": "stderr",
     "output_type": "stream",
     "text": [
      "<ipython-input-19-16a1ee213920>:1: ParserWarning: Falling back to the 'python' engine because the 'c' engine does not support regex separators (separators > 1 char and different from '\\s+' are interpreted as regex); you can avoid this warning by specifying engine='python'.\n",
      "  df_clicks= pd.read_csv(r'C:\\Users\\OzturkNa\\Downloads\\Py\\Recomm\\Product_views2.csv', sep='\\\\t', index_col=False)\n"
     ]
    }
   ],
   "source": [
    "df_clicks= pd.read_csv(r'C:\\Users\\OzturkNa\\Downloads\\Py\\Recomm\\Product_views2.csv', sep='\\\\t', index_col=False)\n",
    "#df_clicks.head()"
   ]
  },
  {
   "cell_type": "code",
   "execution_count": 20,
   "metadata": {},
   "outputs": [],
   "source": [
    "df_clicks.rename(columns={'ï»¿\"Products': 'Products'}, inplace=True)\n",
    "df_clicks['Products']= df_clicks['Products'].str[1:]\n",
    "df_clicks.drop(['Qty Product Added to Cart', 'Qty Purchased Products', 'Products in Basket Avg\"'], axis=1, inplace=True)\n",
    "#df_clicks.head()"
   ]
  },
  {
   "cell_type": "code",
   "execution_count": 21,
   "metadata": {},
   "outputs": [
    {
     "name": "stdout",
     "output_type": "stream",
     "text": [
      "<class 'pandas.core.frame.DataFrame'>\n",
      "RangeIndex: 26797 entries, 0 to 26796\n",
      "Data columns (total 2 columns):\n",
      " #   Column             Non-Null Count  Dtype \n",
      "---  ------             --------------  ----- \n",
      " 0   Products           26797 non-null  object\n",
      " 1   Qty Product Views  26797 non-null  object\n",
      "dtypes: object(2)\n",
      "memory usage: 418.8+ KB\n"
     ]
    }
   ],
   "source": [
    "df_clicks.info()"
   ]
  },
  {
   "cell_type": "code",
   "execution_count": 22,
   "metadata": {},
   "outputs": [],
   "source": [
    "df_clicks=df_clicks.dropna()\n",
    "df_clicks= df_clicks[~(df_clicks['Qty Product Views']=='-')]"
   ]
  },
  {
   "cell_type": "code",
   "execution_count": 23,
   "metadata": {},
   "outputs": [],
   "source": [
    "df_clicks['Qty Product Views']= df_clicks['Qty Product Views'].astype(int)\n",
    "#df_clicks.head()"
   ]
  },
  {
   "cell_type": "code",
   "execution_count": 27,
   "metadata": {},
   "outputs": [
    {
     "name": "stderr",
     "output_type": "stream",
     "text": [
      "<ipython-input-27-ab34cf030cec>:1: ParserWarning: Falling back to the 'python' engine because the 'c' engine does not support regex separators (separators > 1 char and different from '\\s+' are interpreted as regex); you can avoid this warning by specifying engine='python'.\n",
      "  df_product= pd.read_csv(r'C:\\Users\\OzturkNa\\Downloads\\Py\\Recomm\\zmm92_1010_rec2.txt', sep='\\\\t')\n"
     ]
    }
   ],
   "source": [
    "df_product= pd.read_csv(r'C:\\Users\\OzturkNa\\Downloads\\Py\\Recomm\\zmm92_1010_rec2.txt', sep='\\\\t')\n",
    "#df_product.head()"
   ]
  },
  {
   "cell_type": "code",
   "execution_count": 28,
   "metadata": {},
   "outputs": [
    {
     "data": {
      "text/plain": [
       "Index(['\"', 'Material', 'C-Net', 'Productstatus', 'Manufact.\"'], dtype='object')"
      ]
     },
     "execution_count": 28,
     "metadata": {},
     "output_type": "execute_result"
    }
   ],
   "source": [
    "df_product.columns"
   ]
  },
  {
   "cell_type": "code",
   "execution_count": 29,
   "metadata": {},
   "outputs": [
    {
     "data": {
      "text/plain": [
       "13         X\n",
       "23         X\n",
       "446        X\n",
       "584        X\n",
       "590        X\n",
       "          ..\n",
       "1048425    X\n",
       "1048426    X\n",
       "1048427    X\n",
       "1048428    X\n",
       "1048551    X\n",
       "Name: C-Net, Length: 15406, dtype: object"
      ]
     },
     "execution_count": 29,
     "metadata": {},
     "output_type": "execute_result"
    }
   ],
   "source": [
    "df_product= df_product.dropna()\n",
    "df_product.drop(['\"', 'Productstatus', 'Manufact.\"'], axis=1, inplace=True)\n",
    "df_product['C-Net'].fillna(0)\n",
    "#df_product.head()"
   ]
  },
  {
   "cell_type": "code",
   "execution_count": 30,
   "metadata": {},
   "outputs": [],
   "source": [
    "df_product['C-Net']= np.where(df_product['C-Net']=='X', 1,0)\n",
    "#df_product.head()"
   ]
  },
  {
   "cell_type": "code",
   "execution_count": 31,
   "metadata": {},
   "outputs": [
    {
     "name": "stdout",
     "output_type": "stream",
     "text": [
      "<class 'pandas.core.frame.DataFrame'>\n",
      "Int64Index: 15406 entries, 13 to 1048551\n",
      "Data columns (total 2 columns):\n",
      " #   Column    Non-Null Count  Dtype \n",
      "---  ------    --------------  ----- \n",
      " 0   Material  15406 non-null  object\n",
      " 1   C-Net     15406 non-null  int32 \n",
      "dtypes: int32(1), object(1)\n",
      "memory usage: 300.9+ KB\n"
     ]
    }
   ],
   "source": [
    "df_product.info()"
   ]
  },
  {
   "cell_type": "code",
   "execution_count": 32,
   "metadata": {},
   "outputs": [],
   "source": [
    "df= pd.merge(df_sales, df_clicks, left_on='MaterialNo', right_on='Products', how='left')\n",
    "#df.head()"
   ]
  },
  {
   "cell_type": "code",
   "execution_count": 33,
   "metadata": {},
   "outputs": [
    {
     "name": "stdout",
     "output_type": "stream",
     "text": [
      "<class 'pandas.core.frame.DataFrame'>\n",
      "Int64Index: 2531 entries, 0 to 2530\n",
      "Data columns (total 5 columns):\n",
      " #   Column             Non-Null Count  Dtype  \n",
      "---  ------             --------------  -----  \n",
      " 0   CustomerNo         2531 non-null   object \n",
      " 1   MaterialNo         2531 non-null   object \n",
      " 2   Quantity           2531 non-null   int64  \n",
      " 3   Products           1301 non-null   object \n",
      " 4   Qty Product Views  1301 non-null   float64\n",
      "dtypes: float64(1), int64(1), object(3)\n",
      "memory usage: 118.6+ KB\n"
     ]
    }
   ],
   "source": [
    "df.info()"
   ]
  },
  {
   "cell_type": "code",
   "execution_count": 34,
   "metadata": {},
   "outputs": [],
   "source": [
    "df= pd.merge(df, df_product, left_on='MaterialNo', right_on='Material', how='left')\n",
    "#df.head()"
   ]
  },
  {
   "cell_type": "code",
   "execution_count": 35,
   "metadata": {},
   "outputs": [],
   "source": [
    "df.drop(['Products', 'Material'], axis=1, inplace=True)\n",
    "#df.head()"
   ]
  },
  {
   "cell_type": "code",
   "execution_count": 36,
   "metadata": {},
   "outputs": [],
   "source": [
    "df['C-Net'].fillna(0, inplace=True)\n",
    "#df.head()"
   ]
  },
  {
   "cell_type": "code",
   "execution_count": 37,
   "metadata": {},
   "outputs": [
    {
     "data": {
      "text/plain": [
       "Index(['CustomerNo', 'MaterialNo', 'Quantity', 'Qty Product Views', 'C-Net'], dtype='object')"
      ]
     },
     "execution_count": 37,
     "metadata": {},
     "output_type": "execute_result"
    }
   ],
   "source": [
    "df.columns"
   ]
  },
  {
   "cell_type": "code",
   "execution_count": 38,
   "metadata": {},
   "outputs": [
    {
     "data": {
      "image/png": "[encoded data removed]",
      "text/plain": [
       "<Figure size 432x288 with 1 Axes>"
      ]
     },
     "metadata": {
      "needs_background": "light"
     },
     "output_type": "display_data"
    }
   ],
   "source": [
    "# Create the scatter plot\n",
    "plt.scatter(df['Quantity'], df['Qty Product Views'], color='b', marker='o')\n",
    "\n",
    "# Add labels and title\n",
    "plt.xlabel('Quantity')\n",
    "plt.ylabel('Qty Product Views')\n",
    "plt.title('Scatter Plot: Quantity vs. Qty Product Views')\n",
    "\n",
    "# Display the plot\n",
    "plt.show()"
   ]
  },
  {
   "cell_type": "code",
   "execution_count": 39,
   "metadata": {},
   "outputs": [
    {
     "data": {
      "image/png": "[encoded data removed]",
      "text/plain": [
       "<Figure size 432x288 with 1 Axes>"
      ]
     },
     "metadata": {
      "needs_background": "light"
     },
     "output_type": "display_data"
    }
   ],
   "source": [
    "# Create the histogram\n",
    "plt.hist(df['Quantity'], bins=10, edgecolor='black')\n",
    "\n",
    "# Add labels and title\n",
    "plt.xlabel('Quantity')\n",
    "plt.ylabel('Frequency')\n",
    "plt.title('Histogram: Quantity Distribution')\n",
    "\n",
    "# Display the plot\n",
    "plt.show()"
   ]
  },
  {
   "cell_type": "code",
   "execution_count": 40,
   "metadata": {},
   "outputs": [
    {
     "data": {
      "image/png": "[encoded data removed]",
      "text/plain": [
       "<Figure size 432x288 with 1 Axes>"
      ]
     },
     "metadata": {
      "needs_background": "light"
     },
     "output_type": "display_data"
    }
   ],
   "source": [
    "# Calculate total quantity for each customer\n",
    "customer_quantity = df.groupby('CustomerNo')['Quantity'].sum()\n",
    "\n",
    "# Create the bar plot\n",
    "plt.bar(customer_quantity.index, customer_quantity.values, color='skyblue')\n",
    "\n",
    "# Add labels and title\n",
    "plt.xlabel('Customer Number')\n",
    "plt.ylabel('Total Quantity')\n",
    "plt.title('Bar Plot: Total Quantity by Customer')\n",
    "\n",
    "# Display the plot\n",
    "plt.show()"
   ]
  },
  {
   "cell_type": "code",
   "execution_count": 41,
   "metadata": {},
   "outputs": [
    {
     "data": {
      "image/png": "[encoded data removed]",
      "text/plain": [
       "<Figure size 432x288 with 1 Axes>"
      ]
     },
     "metadata": {
      "needs_background": "light"
     },
     "output_type": "display_data"
    }
   ],
   "source": [
    "# Calculate total quantity and total product views for each customer\n",
    "customer_data = df.groupby('CustomerNo').agg({'Quantity': 'sum', 'Qty Product Views': 'sum'})\n",
    "\n",
    "# Create the stacked bar plot\n",
    "plt.bar(customer_data.index, customer_data['Quantity'], color='skyblue', label='Quantity')\n",
    "plt.bar(customer_data.index, customer_data['Qty Product Views'], bottom=customer_data['Quantity'], color='orange', label='Qty Product Views')\n",
    "\n",
    "# Add labels and title\n",
    "plt.xlabel('Customer Number')\n",
    "plt.ylabel('Total Quantity and Qty Product Views')\n",
    "plt.title('Stacked Bar Plot: Total Quantity and Qty Product Views by Customer')\n",
    "plt.legend()\n",
    "\n",
    "# Display the plot\n",
    "plt.show()"
   ]
  },
  {
   "cell_type": "code",
   "execution_count": 42,
   "metadata": {},
   "outputs": [],
   "source": [
    "df1=df"
   ]
  },
  {
   "cell_type": "code",
   "execution_count": 43,
   "metadata": {},
   "outputs": [],
   "source": [
    "# Calculate ratings based on weighted average\n",
    "weights = {'sales_quantities': 0.6, 'clicks': 0.3, 'info_weight': 0.1}\n",
    "df['user_rating'] = df.apply(lambda row: row['Quantity'] * weights['sales_quantities'] +\n",
    "                                    row['Qty Product Views'] * weights['clicks'] +\n",
    "                                    row['C-Net'] * weights['info_weight'], axis=1)\n"
   ]
  },
  {
   "cell_type": "code",
   "execution_count": 44,
   "metadata": {},
   "outputs": [],
   "source": [
    "#df.head()"
   ]
  },
  {
   "cell_type": "code",
   "execution_count": 45,
   "metadata": {},
   "outputs": [],
   "source": [
    "df['user_rating'].fillna(0, inplace=True)"
   ]
  },
  {
   "cell_type": "code",
   "execution_count": 46,
   "metadata": {},
   "outputs": [],
   "source": [
    "# Rescale the ratings between 1 and 5 (integer)\n",
    "min_rating = df['user_rating'].min()\n",
    "max_rating = df['user_rating'].max()\n",
    "df['user_rating'] = ((df['user_rating'] - min_rating) / (max_rating - min_rating) * 4 + 1).round().astype(int)\n",
    "#df.head()"
   ]
  },
  {
   "cell_type": "code",
   "execution_count": 47,
   "metadata": {},
   "outputs": [
    {
     "data": {
      "text/plain": [
       "5"
      ]
     },
     "execution_count": 47,
     "metadata": {},
     "output_type": "execute_result"
    }
   ],
   "source": [
    "df['user_rating'].nunique()"
   ]
  },
  {
   "cell_type": "code",
   "execution_count": 48,
   "metadata": {},
   "outputs": [],
   "source": [
    "df.fillna(0, inplace=True)"
   ]
  },
  {
   "cell_type": "code",
   "execution_count": 49,
   "metadata": {},
   "outputs": [
    {
     "data": {
      "text/plain": [
       "Index(['CustomerNo', 'MaterialNo', 'Quantity', 'Qty Product Views', 'C-Net',\n",
       "       'user_rating'],\n",
       "      dtype='object')"
      ]
     },
     "execution_count": 49,
     "metadata": {},
     "output_type": "execute_result"
    }
   ],
   "source": [
    "df.columns"
   ]
  },
  {
   "cell_type": "code",
   "execution_count": 50,
   "metadata": {},
   "outputs": [
    {
     "data": {
      "text/plain": [
       "30000"
      ]
     },
     "execution_count": 50,
     "metadata": {},
     "output_type": "execute_result"
    }
   ],
   "source": [
    "df['Quantity'].max()"
   ]
  },
  {
   "cell_type": "code",
   "execution_count": 51,
   "metadata": {},
   "outputs": [
    {
     "data": {
      "image/png": "[encoded data removed]",
      "text/plain": [
       "<Figure size 576x432 with 1 Axes>"
      ]
     },
     "metadata": {
      "needs_background": "light"
     },
     "output_type": "display_data"
    }
   ],
   "source": [
    "# Sort the data by 'sales_qty'\n",
    "df = df.sort_values(by='Quantity')\n",
    "\n",
    "# Plot the histogram for sales_qty\n",
    "plt.figure(figsize=(8, 6))\n",
    "plt.hist(df['Quantity'], bins=10, edgecolor='black')\n",
    "plt.xlabel('Sales Quantity')\n",
    "plt.ylabel('Frequency')\n",
    "plt.title('Distribution of Sales Quantity')\n",
    "\n",
    "# Set x-axis ticks based on the maximum sales quantity\n",
    "max_sales_qty = df['Quantity'].max()\n",
    "plt.xticks(range(0, max_sales_qty + 1, max_sales_qty // 10))  # Adjust the step size of ticks if needed\n",
    "\n",
    "plt.show()"
   ]
  },
  {
   "cell_type": "code",
   "execution_count": 52,
   "metadata": {},
   "outputs": [],
   "source": [
    "# Split the data into train and test sets\n",
    "train_data, test_data = train_test_split(df, test_size=0.2, random_state=42)\n",
    "\n",
    "# Create the feature matrix and target variable for training\n",
    "X_train = train_data[['CustomerNo', 'MaterialNo', 'Quantity', 'Qty Product Views', 'C-Net']]\n",
    "y_train = train_data['user_rating']\n",
    "\n",
    "# Create the feature matrix and target variable for testing\n",
    "X_test = test_data[['CustomerNo', 'MaterialNo', 'Quantity', 'Qty Product Views', 'C-Net']]\n",
    "y_test = test_data['user_rating']"
   ]
  },
  {
   "cell_type": "code",
   "execution_count": 53,
   "metadata": {},
   "outputs": [
    {
     "name": "stderr",
     "output_type": "stream",
     "text": [
      "<ipython-input-53-8f79922cb443>:3: SettingWithCopyWarning: \n",
      "A value is trying to be set on a copy of a slice from a DataFrame.\n",
      "Try using .loc[row_indexer,col_indexer] = value instead\n",
      "\n",
      "See the caveats in the documentation: https://pandas.pydata.org/pandas-docs/stable/user_guide/indexing.html#returning-a-view-versus-a-copy\n",
      "  X_train[['Quantity', 'Qty Product Views', 'C-Net']] = scaler.fit_transform(X_train[['Quantity', 'Qty Product Views', 'C-Net']])\n",
      "C:\\ProgramData\\Anaconda3\\lib\\site-packages\\pandas\\core\\indexing.py:1736: SettingWithCopyWarning: \n",
      "A value is trying to be set on a copy of a slice from a DataFrame.\n",
      "Try using .loc[row_indexer,col_indexer] = value instead\n",
      "\n",
      "See the caveats in the documentation: https://pandas.pydata.org/pandas-docs/stable/user_guide/indexing.html#returning-a-view-versus-a-copy\n",
      "  isetter(loc, value[:, i].tolist())\n",
      "<ipython-input-53-8f79922cb443>:4: SettingWithCopyWarning: \n",
      "A value is trying to be set on a copy of a slice from a DataFrame.\n",
      "Try using .loc[row_indexer,col_indexer] = value instead\n",
      "\n",
      "See the caveats in the documentation: https://pandas.pydata.org/pandas-docs/stable/user_guide/indexing.html#returning-a-view-versus-a-copy\n",
      "  X_test[['Quantity', 'Qty Product Views', 'C-Net']] = scaler.transform(X_test[['Quantity', 'Qty Product Views', 'C-Net']])\n",
      "C:\\ProgramData\\Anaconda3\\lib\\site-packages\\pandas\\core\\indexing.py:1736: SettingWithCopyWarning: \n",
      "A value is trying to be set on a copy of a slice from a DataFrame.\n",
      "Try using .loc[row_indexer,col_indexer] = value instead\n",
      "\n",
      "See the caveats in the documentation: https://pandas.pydata.org/pandas-docs/stable/user_guide/indexing.html#returning-a-view-versus-a-copy\n",
      "  isetter(loc, value[:, i].tolist())\n"
     ]
    }
   ],
   "source": [
    "# Normalize the features using Min-Max scaling\n",
    "scaler = MinMaxScaler()\n",
    "X_train[['Quantity', 'Qty Product Views', 'C-Net']] = scaler.fit_transform(X_train[['Quantity', 'Qty Product Views', 'C-Net']])\n",
    "X_test[['Quantity', 'Qty Product Views', 'C-Net']] = scaler.transform(X_test[['Quantity', 'Qty Product Views', 'C-Net']])"
   ]
  },
  {
   "cell_type": "code",
   "execution_count": 54,
   "metadata": {},
   "outputs": [],
   "source": [
    "# Convert categorical features to numerical using one-hot encoding\n",
    "X_train_encoded = pd.get_dummies(X_train)\n",
    "X_test_encoded = pd.get_dummies(X_test)"
   ]
  },
  {
   "cell_type": "code",
   "execution_count": 55,
   "metadata": {},
   "outputs": [],
   "source": [
    "# Align the training and testing data to ensure consistent columns\n",
    "X_train_encoded, X_test_encoded = X_train_encoded.align(X_test_encoded, join='outer', axis=1, fill_value=0)"
   ]
  },
  {
   "cell_type": "code",
   "execution_count": 56,
   "metadata": {},
   "outputs": [],
   "source": [
    "# Find the optimal K using the elbow method\n",
    "k_values = range(1, 11)\n",
    "mae_values = []\n",
    "\n",
    "for k in k_values:\n",
    "    model = KNeighborsRegressor(n_neighbors=k)\n",
    "    model.fit(X_train_encoded, y_train)\n",
    "    y_pred = model.predict(X_test_encoded)\n",
    "    y_pred = np.round(y_pred).astype(int)\n",
    "    y_pred = np.clip(y_pred, 1, 5)  # Ensure predicted ratings are within 1 to 5 range\n",
    "    mae = mean_absolute_error(y_test, y_pred)\n",
    "    mae_values.append(mae)"
   ]
  },
  {
   "cell_type": "code",
   "execution_count": 57,
   "metadata": {},
   "outputs": [
    {
     "data": {
      "image/png": "[encoded data removed]",
      "text/plain": [
       "<Figure size 432x288 with 1 Axes>"
      ]
     },
     "metadata": {
      "needs_background": "light"
     },
     "output_type": "display_data"
    }
   ],
   "source": [
    "# Plot the Mean Absolute Error against K values\n",
    "plt.plot(k_values, mae_values, marker='o')\n",
    "plt.xlabel('K Value')\n",
    "plt.ylabel('Mean Absolute Error (MAE)')\n",
    "plt.title('Elbow Method to Choose Optimal K Value')\n",
    "plt.xticks(k_values)\n",
    "plt.show()"
   ]
  },
  {
   "cell_type": "code",
   "execution_count": 58,
   "metadata": {},
   "outputs": [],
   "source": [
    "# Choose the optimal K value based on the elbow plot (in this example, let's assume the elbow point is at K=3)\n",
    "optimal_k = 3"
   ]
  },
  {
   "cell_type": "code",
   "execution_count": 59,
   "metadata": {},
   "outputs": [
    {
     "data": {
      "text/plain": [
       "KNeighborsRegressor(n_neighbors=3)"
      ]
     },
     "execution_count": 59,
     "metadata": {},
     "output_type": "execute_result"
    }
   ],
   "source": [
    "# Build the KNN model with the optimal K value\n",
    "model = KNeighborsRegressor(n_neighbors=optimal_k)\n",
    "model.fit(X_train_encoded, y_train)"
   ]
  },
  {
   "cell_type": "code",
   "execution_count": 60,
   "metadata": {},
   "outputs": [],
   "source": [
    "# Make predictions on the test data\n",
    "y_pred = model.predict(X_test_encoded)\n",
    "y_pred = np.round(y_pred).astype(int)\n",
    "y_pred = np.clip(y_pred, 1, 5)  # Ensure predicted ratings are within 1 to 5 range"
   ]
  },
  {
   "cell_type": "code",
   "execution_count": 61,
   "metadata": {},
   "outputs": [
    {
     "name": "stdout",
     "output_type": "stream",
     "text": [
      "MAE: 0.023668639053254437\n"
     ]
    }
   ],
   "source": [
    "# Evaluate the model using Mean Absolute Error (MAE)\n",
    "mae = mean_absolute_error(y_test, y_pred)\n",
    "print(f\"MAE: {mae}\")"
   ]
  },
  {
   "cell_type": "code",
   "execution_count": null,
   "metadata": {},
   "outputs": [],
   "source": []
  }
 ],
 "metadata": {
  "kernelspec": {
   "display_name": "Python 3",
   "language": "python",
   "name": "python3"
  },
  "language_info": {
   "codemirror_mode": {
    "name": "ipython",
    "version": 3
   },
   "file_extension": ".py",
   "mimetype": "text/x-python",
   "name": "python",
   "nbconvert_exporter": "python",
   "pygments_lexer": "ipython3",
   "version": "3.8.5"
  }
 },
 "nbformat": 4,
 "nbformat_minor": 4
}
